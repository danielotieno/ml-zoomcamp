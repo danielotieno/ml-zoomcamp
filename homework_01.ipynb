{
  "nbformat": 4,
  "nbformat_minor": 0,
  "metadata": {
    "colab": {
      "name": "homework-01.ipynb",
      "provenance": [],
      "authorship_tag": "ABX9TyMP8Kz6sifPZfZ4GUomgsOA",
      "include_colab_link": true
    },
    "kernelspec": {
      "name": "python3",
      "display_name": "Python 3"
    },
    "language_info": {
      "name": "python"
    }
  },
  "cells": [
    {
      "cell_type": "markdown",
      "metadata": {
        "id": "view-in-github",
        "colab_type": "text"
      },
      "source": [
        "<a href=\"https://colab.research.google.com/github/danielotieno/ml-zoomcamp/blob/main/homework_01.ipynb\" target=\"_parent\"><img src=\"https://colab.research.google.com/assets/colab-badge.svg\" alt=\"Open In Colab\"/></a>"
      ]
    },
    {
      "cell_type": "code",
      "metadata": {
        "id": "jzkfR-Z_qg6J"
      },
      "source": [
        "# Importing Both Numpy and Pandas\n",
        "import numpy as np\n",
        "import pandas as pd"
      ],
      "execution_count": 7,
      "outputs": []
    },
    {
      "cell_type": "code",
      "metadata": {
        "colab": {
          "base_uri": "https://localhost:8080/"
        },
        "id": "ttxHbu5hqlXm",
        "outputId": "e69668b2-4516-4b08-a6bc-cf974d09695b"
      },
      "source": [
        "# Checking numpy version\n",
        "print(np.__version__)"
      ],
      "execution_count": 8,
      "outputs": [
        {
          "output_type": "stream",
          "name": "stdout",
          "text": [
            "1.19.5\n"
          ]
        }
      ]
    },
    {
      "cell_type": "code",
      "metadata": {
        "colab": {
          "base_uri": "https://localhost:8080/"
        },
        "id": "qcdR8rZxq8WI",
        "outputId": "640ffe90-0572-495e-d2dc-8aebc4c6e8e1"
      },
      "source": [
        "# Checking pandas version\n",
        "print(pd.__version__)"
      ],
      "execution_count": 9,
      "outputs": [
        {
          "output_type": "stream",
          "name": "stdout",
          "text": [
            "1.1.5\n"
          ]
        }
      ]
    },
    {
      "cell_type": "code",
      "metadata": {
        "colab": {
          "base_uri": "https://localhost:8080/",
          "height": 428
        },
        "id": "r-ECkMPvseHU",
        "outputId": "4a0b3a2f-ccb9-48cc-de59-12cab744193b"
      },
      "source": [
        "# Reading the car price dataset \n",
        "\n",
        "car_price_df = pd.read_csv(\"https://raw.githubusercontent.com/alexeygrigorev/mlbookcamp-code/master/chapter-02-car-price/data.csv\")\n",
        "\n",
        "car_price_df.head()"
      ],
      "execution_count": 25,
      "outputs": [
        {
          "output_type": "execute_result",
          "data": {
            "text/html": [
              "<div>\n",
              "<style scoped>\n",
              "    .dataframe tbody tr th:only-of-type {\n",
              "        vertical-align: middle;\n",
              "    }\n",
              "\n",
              "    .dataframe tbody tr th {\n",
              "        vertical-align: top;\n",
              "    }\n",
              "\n",
              "    .dataframe thead th {\n",
              "        text-align: right;\n",
              "    }\n",
              "</style>\n",
              "<table border=\"1\" class=\"dataframe\">\n",
              "  <thead>\n",
              "    <tr style=\"text-align: right;\">\n",
              "      <th></th>\n",
              "      <th>Make</th>\n",
              "      <th>Model</th>\n",
              "      <th>Year</th>\n",
              "      <th>Engine Fuel Type</th>\n",
              "      <th>Engine HP</th>\n",
              "      <th>Engine Cylinders</th>\n",
              "      <th>Transmission Type</th>\n",
              "      <th>Driven_Wheels</th>\n",
              "      <th>Number of Doors</th>\n",
              "      <th>Market Category</th>\n",
              "      <th>Vehicle Size</th>\n",
              "      <th>Vehicle Style</th>\n",
              "      <th>highway MPG</th>\n",
              "      <th>city mpg</th>\n",
              "      <th>Popularity</th>\n",
              "      <th>MSRP</th>\n",
              "    </tr>\n",
              "  </thead>\n",
              "  <tbody>\n",
              "    <tr>\n",
              "      <th>0</th>\n",
              "      <td>BMW</td>\n",
              "      <td>1 Series M</td>\n",
              "      <td>2011</td>\n",
              "      <td>premium unleaded (required)</td>\n",
              "      <td>335.0</td>\n",
              "      <td>6.0</td>\n",
              "      <td>MANUAL</td>\n",
              "      <td>rear wheel drive</td>\n",
              "      <td>2.0</td>\n",
              "      <td>Factory Tuner,Luxury,High-Performance</td>\n",
              "      <td>Compact</td>\n",
              "      <td>Coupe</td>\n",
              "      <td>26</td>\n",
              "      <td>19</td>\n",
              "      <td>3916</td>\n",
              "      <td>46135</td>\n",
              "    </tr>\n",
              "    <tr>\n",
              "      <th>1</th>\n",
              "      <td>BMW</td>\n",
              "      <td>1 Series</td>\n",
              "      <td>2011</td>\n",
              "      <td>premium unleaded (required)</td>\n",
              "      <td>300.0</td>\n",
              "      <td>6.0</td>\n",
              "      <td>MANUAL</td>\n",
              "      <td>rear wheel drive</td>\n",
              "      <td>2.0</td>\n",
              "      <td>Luxury,Performance</td>\n",
              "      <td>Compact</td>\n",
              "      <td>Convertible</td>\n",
              "      <td>28</td>\n",
              "      <td>19</td>\n",
              "      <td>3916</td>\n",
              "      <td>40650</td>\n",
              "    </tr>\n",
              "    <tr>\n",
              "      <th>2</th>\n",
              "      <td>BMW</td>\n",
              "      <td>1 Series</td>\n",
              "      <td>2011</td>\n",
              "      <td>premium unleaded (required)</td>\n",
              "      <td>300.0</td>\n",
              "      <td>6.0</td>\n",
              "      <td>MANUAL</td>\n",
              "      <td>rear wheel drive</td>\n",
              "      <td>2.0</td>\n",
              "      <td>Luxury,High-Performance</td>\n",
              "      <td>Compact</td>\n",
              "      <td>Coupe</td>\n",
              "      <td>28</td>\n",
              "      <td>20</td>\n",
              "      <td>3916</td>\n",
              "      <td>36350</td>\n",
              "    </tr>\n",
              "    <tr>\n",
              "      <th>3</th>\n",
              "      <td>BMW</td>\n",
              "      <td>1 Series</td>\n",
              "      <td>2011</td>\n",
              "      <td>premium unleaded (required)</td>\n",
              "      <td>230.0</td>\n",
              "      <td>6.0</td>\n",
              "      <td>MANUAL</td>\n",
              "      <td>rear wheel drive</td>\n",
              "      <td>2.0</td>\n",
              "      <td>Luxury,Performance</td>\n",
              "      <td>Compact</td>\n",
              "      <td>Coupe</td>\n",
              "      <td>28</td>\n",
              "      <td>18</td>\n",
              "      <td>3916</td>\n",
              "      <td>29450</td>\n",
              "    </tr>\n",
              "    <tr>\n",
              "      <th>4</th>\n",
              "      <td>BMW</td>\n",
              "      <td>1 Series</td>\n",
              "      <td>2011</td>\n",
              "      <td>premium unleaded (required)</td>\n",
              "      <td>230.0</td>\n",
              "      <td>6.0</td>\n",
              "      <td>MANUAL</td>\n",
              "      <td>rear wheel drive</td>\n",
              "      <td>2.0</td>\n",
              "      <td>Luxury</td>\n",
              "      <td>Compact</td>\n",
              "      <td>Convertible</td>\n",
              "      <td>28</td>\n",
              "      <td>18</td>\n",
              "      <td>3916</td>\n",
              "      <td>34500</td>\n",
              "    </tr>\n",
              "  </tbody>\n",
              "</table>\n",
              "</div>"
            ],
            "text/plain": [
              "  Make       Model  Year  ... city mpg  Popularity   MSRP\n",
              "0  BMW  1 Series M  2011  ...       19        3916  46135\n",
              "1  BMW    1 Series  2011  ...       19        3916  40650\n",
              "2  BMW    1 Series  2011  ...       20        3916  36350\n",
              "3  BMW    1 Series  2011  ...       18        3916  29450\n",
              "4  BMW    1 Series  2011  ...       18        3916  34500\n",
              "\n",
              "[5 rows x 16 columns]"
            ]
          },
          "metadata": {},
          "execution_count": 25
        }
      ]
    },
    {
      "cell_type": "code",
      "metadata": {
        "colab": {
          "base_uri": "https://localhost:8080/"
        },
        "id": "Ptpa8b0kvUAi",
        "outputId": "a4de082a-b746-4e6a-8b07-d2363e9a994a"
      },
      "source": [
        "# The average price of BMW cars\n",
        "\n",
        "bmw_cars = car_price_df[car_price_df['Make'] == 'BMW']\n",
        "\n",
        "bmw_average_price = bmw_cars['MSRP'].mean()\n",
        "\n",
        "print(bmw_average_price)"
      ],
      "execution_count": 18,
      "outputs": [
        {
          "output_type": "stream",
          "name": "stdout",
          "text": [
            "61546.76347305389\n"
          ]
        }
      ]
    },
    {
      "cell_type": "code",
      "metadata": {
        "colab": {
          "base_uri": "https://localhost:8080/"
        },
        "id": "6NLTNqNRx_H8",
        "outputId": "20220c82-d169-4417-932b-6cb37c65f682"
      },
      "source": [
        "#  Subset of cars after year 2015 (inclusive, i.e. 2015 and after)\n",
        "\n",
        "cars_from_2015 = car_price_df[car_price_df['Year'] >= 2015]\n",
        "\n",
        "missing_values_for_engine_hp = cars_from_2015['Engine HP'].isna().sum()\n",
        "print(missing_values_for_engine_hp)"
      ],
      "execution_count": 20,
      "outputs": [
        {
          "output_type": "stream",
          "name": "stdout",
          "text": [
            "51\n"
          ]
        }
      ]
    },
    {
      "cell_type": "code",
      "metadata": {
        "colab": {
          "base_uri": "https://localhost:8080/"
        },
        "id": "Gjq9dyVD19Yp",
        "outputId": "a0ef29ca-581d-481a-edaf-4b8d638df406"
      },
      "source": [
        "# The average \"Engine HP\" in the dataset\n",
        "\n",
        "first_engine_hp_average = car_price_df['Engine HP'].mean()\n",
        "\n",
        "print(round(first_engine_hp_average))"
      ],
      "execution_count": 21,
      "outputs": [
        {
          "output_type": "stream",
          "name": "stdout",
          "text": [
            "249\n"
          ]
        }
      ]
    },
    {
      "cell_type": "code",
      "metadata": {
        "colab": {
          "base_uri": "https://localhost:8080/"
        },
        "id": "N_eotF1_3KQY",
        "outputId": "bb04fe87-e20b-47cd-d4f6-0d51246550e7"
      },
      "source": [
        "# The average \"Engine HP\" in the dataset after using fillna method\n",
        "\n",
        "second_engine_hp = car_price_df['Engine HP'].fillna(0)\n",
        "\n",
        "\n",
        "second_engine_hp_average = second_engine_hp.mean()\n",
        "\n",
        "print(round(second_engine_hp_average))\n",
        "\n",
        "\n"
      ],
      "execution_count": 23,
      "outputs": [
        {
          "output_type": "stream",
          "name": "stdout",
          "text": [
            "248\n"
          ]
        }
      ]
    },
    {
      "cell_type": "code",
      "metadata": {
        "colab": {
          "base_uri": "https://localhost:8080/"
        },
        "id": "sGAPFkzv5AqE",
        "outputId": "d91e0913-5725-4ce3-e6ce-b61361a23fe9"
      },
      "source": [
        "# Select all the \"Rolls-Royce\" cars from the dataset.\n",
        "rolls_royce_cars = car_price_df[car_price_df['Make'] == 'Rolls-Royce']\n",
        "\n",
        "rolls_royce_df = rolls_royce_cars[['Engine HP', 'Engine Cylinders', 'highway MPG']]\n",
        "\n",
        "print(rolls_royce_df)\n"
      ],
      "execution_count": 29,
      "outputs": [
        {
          "output_type": "stream",
          "name": "stdout",
          "text": [
            "       Engine HP  Engine Cylinders  highway MPG\n",
            "2921       325.0               8.0           15\n",
            "3505       563.0              12.0           19\n",
            "5275       563.0              12.0           21\n",
            "5276       563.0              12.0           21\n",
            "5277       563.0              12.0           21\n",
            "5278       563.0              12.0           21\n",
            "5279       563.0              12.0           20\n",
            "5280       563.0              12.0           20\n",
            "5281       563.0              12.0           21\n",
            "5282       563.0              12.0           21\n",
            "5283       563.0              12.0           21\n",
            "5284       563.0              12.0           21\n",
            "7443       322.0              12.0           15\n",
            "7444       322.0              12.0           15\n",
            "7553       453.0              12.0           19\n",
            "7554       453.0              12.0           19\n",
            "7555       453.0              12.0           19\n",
            "7556       453.0              12.0           19\n",
            "7557       453.0              12.0           19\n",
            "7558       453.0              12.0           19\n",
            "7559       453.0              12.0           19\n",
            "7560       453.0              12.0           19\n",
            "7561       453.0              12.0           19\n",
            "7562       453.0              12.0           19\n",
            "7563       453.0              12.0           19\n",
            "7564       453.0              12.0           19\n",
            "9431       322.0              12.0           15\n",
            "9432       322.0              12.0           15\n",
            "11448      624.0              12.0           21\n",
            "11449      624.0              12.0           21\n",
            "11450      624.0              12.0           21\n"
          ]
        }
      ]
    },
    {
      "cell_type": "code",
      "metadata": {
        "colab": {
          "base_uri": "https://localhost:8080/"
        },
        "id": "zXO4DqxY7-hu",
        "outputId": "8ce10550-aee2-4a5f-99fc-414038303f81"
      },
      "source": [
        "# Now drop all duplicated rows using drop_duplicates method\n",
        "\n",
        "X = rolls_royce_df.drop_duplicates()\n",
        "\n",
        "X_transposed = X.T\n",
        "\n",
        "# Compute matrix-matrix multiplication between the transpose of X and X\n",
        "\n",
        "XTX = X.dot(X_transposed)\n",
        "\n",
        "print(XTX)\n",
        "\n"
      ],
      "execution_count": 43,
      "outputs": [
        {
          "output_type": "stream",
          "name": "stdout",
          "text": [
            "          2921      3505      5275      5279      7443      7553      11448\n",
            "2921   105914.0  183356.0  183386.0  183371.0  104971.0  147606.0  203211.0\n",
            "3505   183356.0  317474.0  317512.0  317493.0  181715.0  255544.0  351855.0\n",
            "5275   183386.0  317512.0  317554.0  317533.0  181745.0  255582.0  351897.0\n",
            "5279   183371.0  317493.0  317533.0  317513.0  181730.0  255563.0  351876.0\n",
            "7443   104971.0  181715.0  181745.0  181730.0  104053.0  146295.0  201387.0\n",
            "7553   147606.0  255544.0  255582.0  255563.0  146295.0  205714.0  283215.0\n",
            "11448  203211.0  351855.0  351897.0  351876.0  201387.0  283215.0  389961.0\n"
          ]
        }
      ]
    },
    {
      "cell_type": "code",
      "metadata": {
        "colab": {
          "base_uri": "https://localhost:8080/"
        },
        "id": "Tvzarg5T8E2x",
        "outputId": "dfe7d958-6d35-41b8-ec50-4dc448313da9"
      },
      "source": [
        "# Invert XTX and get the sum of elements \n",
        "\n",
        "inverted_XTX = XTX.iloc[::-1]\n",
        "\n",
        "sum_of_the_elements = inverted_XTX.to_numpy().sum()\n",
        "\n",
        "print(sum_of_the_elements)"
      ],
      "execution_count": 39,
      "outputs": [
        {
          "output_type": "stream",
          "name": "stdout",
          "text": [
            "11671869.0\n"
          ]
        }
      ]
    },
    {
      "cell_type": "code",
      "metadata": {
        "colab": {
          "base_uri": "https://localhost:8080/"
        },
        "id": "g8WxV1amAYiN",
        "outputId": "edc0ef81-44c0-41cf-be1c-6f3eae7336ae"
      },
      "source": [
        "# Create an array y with values [1000, 1100, 900, 1200, 1000, 850, 1300]\n",
        "\n",
        "y = pd.array([1000, 1100, 900, 1200, 1000, 850, 1300])\n",
        "\n",
        "# Multiply the inverse of XTX with the transpose of X, and then multiply the result by y. Call the result w.\n",
        "\n",
        "result = X_transposed.dot(inverted_XTX)\n",
        "\n",
        "w = result.dot(y)\n",
        "\n",
        "print(w)\n",
        "\n"
      ],
      "execution_count": 46,
      "outputs": [
        {
          "output_type": "stream",
          "name": "stdout",
          "text": [
            "Engine HP           6.40827e+12\n",
            "Engine Cylinders    1.44824e+11\n",
            "highway MPG         2.38093e+11\n",
            "dtype: object\n"
          ]
        }
      ]
    }
  ]
}